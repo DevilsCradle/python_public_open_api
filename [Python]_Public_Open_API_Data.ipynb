{
  "nbformat": 4,
  "nbformat_minor": 0,
  "metadata": {
    "colab": {
      "name": "[Python] Public Open API Data.ipynb",
      "version": "0.3.2",
      "provenance": [],
      "collapsed_sections": [],
      "toc_visible": true
    },
    "kernelspec": {
      "name": "python3",
      "display_name": "Python 3"
    }
  },
  "cells": [
    {
      "metadata": {
        "id": "gPMRVmOUec2_",
        "colab_type": "text"
      },
      "cell_type": "markdown",
      "source": [
        "# 공공 데이터 API로 공공 데이터 가져오기"
      ]
    },
    {
      "metadata": {
        "id": "kBg_sWFpeiWl",
        "colab_type": "text"
      },
      "cell_type": "markdown",
      "source": [
        "##공공 데이터 포털 가입"
      ]
    },
    {
      "metadata": {
        "id": "TfrQ8_5weqTu",
        "colab_type": "text"
      },
      "cell_type": "markdown",
      "source": [
        "일단, 제일 먼자 해야할 것은 공공데이터 포털에 회원 가입을 하도록 한다. \n",
        "\n",
        "회원 가입은 어렵지 않으니 설명은 생략 한다.\n",
        "\n",
        "https://www.data.go.kr/"
      ]
    },
    {
      "metadata": {
        "id": "-MX8fYJQfAKp",
        "colab_type": "text"
      },
      "cell_type": "markdown",
      "source": [
        "##공공 데이터 Open API 활용 신청"
      ]
    },
    {
      "metadata": {
        "id": "WTD39EsSfZ9d",
        "colab_type": "text"
      },
      "cell_type": "markdown",
      "source": [
        "이제 OPEN API를 사용하기 위한 활용 신청을 해보도록 하자.\n",
        "\n",
        "일단 해당 홈페이지의 데이터셋 >> OPEN API를 가보면 OPEN API로 제공하는 정보들이 줄줄이 나와 있다.\n",
        "\n",
        "![main](https://github.com/DevilsCradle/python_public_open_api/blob/img/main_menu.png?raw=1)\n",
        "\n"
      ]
    },
    {
      "metadata": {
        "id": "luOMXoVM6w6L",
        "colab_type": "text"
      },
      "cell_type": "markdown",
      "source": [
        "해당 정보들 중에 필요로 하는 정보로 들어가 보자.\n",
        "\n",
        "본 내용에서는 예제로 '한국환경공단_대기오염정보' 관련 데이터를 사용했다.\n",
        "\n",
        "요즘 미세먼지가 매우 핫하니까.. \n",
        "\n",
        "해당 페이지를 들어가면 오른쪽 중간 위에 [활용 신청] 이라는 버튼이 있다.\n",
        "\n",
        "이 버튼을 눌러 신청 해보도록 하자. \n"
      ]
    },
    {
      "metadata": {
        "id": "nYnPD2Y77-6Q",
        "colab_type": "text"
      },
      "cell_type": "markdown",
      "source": [
        "(신청 페이지는 저자 계정이 신청이 되어 있는 관계로 미세먼지 경보 정보 페이지로 대신했다)\n",
        "\n",
        "대부분의 Data들은 자동승인으로 되어있어 신청 시 바로 인증 Key 발급이 된다. 일부 심의 과정이 있는 정보들도있다.\n",
        "\n",
        "일단 우리는 개발 계정으로 신청 하도록한다.\n",
        "\n",
        "시스템 유형은 서버를 구축할게 아니면 일반으로..\n",
        "\n",
        "활용 목접은 편한 걸로..\n",
        "\n",
        "상세 기능 정보에는 받을 수 있는 Data의 정보와 하루 트래픽 제한이 정해져 있다. \n",
        "\n",
        "대기 오염 정보의 경우 하루500회 조회 할 수 있다.\n",
        "\n",
        "신청을 누르면 바로 신청이 완료 된다.\n"
      ]
    },
    {
      "metadata": {
        "id": "bgaSs5dK8PeX",
        "colab_type": "text"
      },
      "cell_type": "markdown",
      "source": [
        "\n",
        "마이페이지 >> 오픈 API >> 개발 계정에 가보면 신청한 내역이 나온다.\n",
        "\n",
        "해당 내역을 조회 해보면 처음에 일반 인증키\n",
        "(UTF-8)가 비어있을 것이다.\n",
        "\n",
        "인증키를 발급 받아보자.\n",
        "\n",
        "인증키 받는 것은 오른쪽위 일반 인증키 받기 버튼을 누르면 발급이 된다.\n",
        "\n"
      ]
    },
    {
      "metadata": {
        "id": "8VNP75QG8T1M",
        "colab_type": "text"
      },
      "cell_type": "markdown",
      "source": [
        "이제 인증키를 발급 받았으니 직접 프로그램으로 데이터를 받아 보도록 하자\n",
        "\n",
        "참고문서에 API사용 법이 나와있으니 참고 하면 된다"
      ]
    },
    {
      "metadata": {
        "id": "FgnISrJNzgym",
        "colab_type": "text"
      },
      "cell_type": "markdown",
      "source": [
        "## 공공 데이터 Open API 호출해서 데이터 받기"
      ]
    }
  ]
}